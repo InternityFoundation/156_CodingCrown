{
 "cells": [
  {
   "cell_type": "code",
   "execution_count": 1,
   "metadata": {},
   "outputs": [],
   "source": [
    "X=[]\n",
    "Z=[]\n",
    "IMG_SIZE=150\n",
    "AB_DIR = 'C:\\\\Users\\\\Tanishqa Mahendru\\\\Desktop\\\\proj\\\\lakData\\\\abrasion'\n",
    "LAC_DIR = 'C:\\\\Users\\\\Tanishqa Mahendru\\\\Desktop\\\\proj\\\\lakData\\\\lacerated'\n",
    "BU_DIR = 'C:\\\\Users\\\\Tanishqa Mahendru\\\\Desktop\\\\proj\\\\lakData\\\\burn'"
   ]
  },
  {
   "cell_type": "code",
   "execution_count": 2,
   "metadata": {},
   "outputs": [
    {
     "name": "stderr",
     "output_type": "stream",
     "text": [
      "100%|█████████████████████████████████████████| 43/43 [00:00<00:00, 754.34it/s]\n",
      "100%|█████████████████████████████████████████| 56/56 [00:00<00:00, 756.72it/s]\n",
      "100%|█████████████████████████████████████████| 47/47 [00:00<00:00, 758.02it/s]\n"
     ]
    }
   ],
   "source": [
    "from tqdm import tqdm\n",
    "import os      \n",
    "import cv2\n",
    "import numpy as np\n",
    "\n",
    "def assign_label(img,wtype):\n",
    "    return wtype\n",
    "\n",
    "def make_train_data(wtype,DIR):\n",
    "    for img in tqdm(os.listdir(DIR)):\n",
    "        label=assign_label(img,wtype)\n",
    "        path = os.path.join(DIR,img)\n",
    "        img = cv2.imread(path,cv2.IMREAD_COLOR)\n",
    "        img = cv2.resize(img, (IMG_SIZE,IMG_SIZE))\n",
    "        \n",
    "        X.append(np.array(img))\n",
    "        Z.append(str(label))\n",
    "        \n",
    "make_train_data('Abrasion',AB_DIR)\n",
    "make_train_data('Laceration',LAC_DIR)\n",
    "make_train_data('Burn',BU_DIR)"
   ]
  },
  {
   "cell_type": "code",
   "execution_count": null,
   "metadata": {},
   "outputs": [],
   "source": []
  },
  {
   "cell_type": "code",
   "execution_count": 3,
   "metadata": {},
   "outputs": [
    {
     "name": "stderr",
     "output_type": "stream",
     "text": [
      "Using TensorFlow backend.\n"
     ]
    }
   ],
   "source": [
    "from keras import backend as K\n",
    "from keras.models import Sequential\n",
    "from keras.layers import Dense\n",
    "from keras.optimizers import Adam,SGD,Adagrad,Adadelta,RMSprop\n",
    "from keras.utils import to_categorical"
   ]
  },
  {
   "cell_type": "code",
   "execution_count": 4,
   "metadata": {},
   "outputs": [],
   "source": [
    "from sklearn.preprocessing import LabelEncoder\n",
    "\n",
    "le=LabelEncoder()\n",
    "Y=le.fit_transform(Z)\n",
    "Y=to_categorical(Y,3)\n",
    "X=np.array(X)"
   ]
  },
  {
   "cell_type": "markdown",
   "metadata": {},
   "source": [
    "Y.shape"
   ]
  },
  {
   "cell_type": "markdown",
   "metadata": {},
   "source": [
    "X=np.array(X)"
   ]
  },
  {
   "cell_type": "markdown",
   "metadata": {},
   "source": [
    "X.shape"
   ]
  },
  {
   "cell_type": "code",
   "execution_count": 5,
   "metadata": {},
   "outputs": [
    {
     "data": {
      "text/plain": [
       "(146, 150, 150, 3)"
      ]
     },
     "execution_count": 5,
     "metadata": {},
     "output_type": "execute_result"
    }
   ],
   "source": [
    "X=X/255\n",
    "X.shape"
   ]
  },
  {
   "cell_type": "code",
   "execution_count": 6,
   "metadata": {},
   "outputs": [],
   "source": [
    "from sklearn.model_selection import train_test_split\n",
    "x_train,x_test,y_train,y_test=train_test_split(X,Y,test_size=0.25,random_state=42)"
   ]
  },
  {
   "cell_type": "code",
   "execution_count": 7,
   "metadata": {},
   "outputs": [
    {
     "name": "stderr",
     "output_type": "stream",
     "text": [
      "WARNING: Logging before flag parsing goes to stderr.\n",
      "W1016 18:56:33.038396  2372 deprecation_wrapper.py:119] From c:\\users\\tanishqa mahendru\\appdata\\local\\programs\\python\\python37\\lib\\site-packages\\keras\\backend\\tensorflow_backend.py:66: The name tf.get_default_graph is deprecated. Please use tf.compat.v1.get_default_graph instead.\n",
      "\n",
      "W1016 18:56:33.062397  2372 deprecation_wrapper.py:119] From c:\\users\\tanishqa mahendru\\appdata\\local\\programs\\python\\python37\\lib\\site-packages\\keras\\backend\\tensorflow_backend.py:541: The name tf.placeholder is deprecated. Please use tf.compat.v1.placeholder instead.\n",
      "\n",
      "W1016 18:56:33.066398  2372 deprecation_wrapper.py:119] From c:\\users\\tanishqa mahendru\\appdata\\local\\programs\\python\\python37\\lib\\site-packages\\keras\\backend\\tensorflow_backend.py:4432: The name tf.random_uniform is deprecated. Please use tf.random.uniform instead.\n",
      "\n",
      "W1016 18:56:33.092399  2372 deprecation_wrapper.py:119] From c:\\users\\tanishqa mahendru\\appdata\\local\\programs\\python\\python37\\lib\\site-packages\\keras\\backend\\tensorflow_backend.py:4267: The name tf.nn.max_pool is deprecated. Please use tf.nn.max_pool2d instead.\n",
      "\n"
     ]
    }
   ],
   "source": [
    "from keras.layers import Dropout, Flatten,Activation\n",
    "from keras.layers import Conv2D, MaxPooling2D, BatchNormalization\n",
    "\n",
    "model = Sequential()\n",
    "model.add(Conv2D(filters = 32, kernel_size = (5,5),padding = 'Same',activation ='relu', input_shape = (150,150,3)))\n",
    "model.add(MaxPooling2D(pool_size=(2,2)))\n",
    "\n",
    "\n",
    "model.add(Conv2D(filters = 64, kernel_size = (3,3),padding = 'Same',activation ='relu'))\n",
    "model.add(MaxPooling2D(pool_size=(2,2), strides=(2,2)))\n",
    " \n",
    "\n",
    "model.add(Conv2D(filters =96, kernel_size = (3,3),padding = 'Same',activation ='relu'))\n",
    "model.add(MaxPooling2D(pool_size=(2,2), strides=(2,2)))\n",
    "\n",
    "model.add(Conv2D(filters = 96, kernel_size = (3,3),padding = 'Same',activation ='relu'))\n",
    "model.add(MaxPooling2D(pool_size=(2,2), strides=(2,2)))\n",
    "\n",
    "model.add(Flatten())\n",
    "model.add(Dense(512))\n",
    "model.add(Activation('relu'))\n",
    "model.add(Dense(3, activation = \"softmax\"))"
   ]
  },
  {
   "cell_type": "code",
   "execution_count": 8,
   "metadata": {},
   "outputs": [
    {
     "name": "stderr",
     "output_type": "stream",
     "text": [
      "W1016 18:56:33.268409  2372 deprecation_wrapper.py:119] From c:\\users\\tanishqa mahendru\\appdata\\local\\programs\\python\\python37\\lib\\site-packages\\keras\\optimizers.py:793: The name tf.train.Optimizer is deprecated. Please use tf.compat.v1.train.Optimizer instead.\n",
      "\n",
      "W1016 18:56:33.279410  2372 deprecation_wrapper.py:119] From c:\\users\\tanishqa mahendru\\appdata\\local\\programs\\python\\python37\\lib\\site-packages\\keras\\backend\\tensorflow_backend.py:3576: The name tf.log is deprecated. Please use tf.math.log instead.\n",
      "\n"
     ]
    }
   ],
   "source": [
    "model.compile(optimizer=Adam(lr=0.001),loss='categorical_crossentropy',metrics=['accuracy'])"
   ]
  },
  {
   "cell_type": "raw",
   "metadata": {},
   "source": [
    "from keras.preprocessing.image import ImageDataGenerator\n",
    "datagen = ImageDataGenerator(\n",
    "        featurewise_center=False,  # set input mean to 0 over the dataset\n",
    "        samplewise_center=False,  # set each sample mean to 0\n",
    "        featurewise_std_normalization=False,  # divide inputs by std of the dataset\n",
    "        samplewise_std_normalization=False,  # divide each input by its std\n",
    "        zca_whitening=False,  # apply ZCA whitening\n",
    "        rotation_range=10,  # randomly rotate images in the range (degrees, 0 to 180)\n",
    "        zoom_range = 0.1, # Randomly zoom image \n",
    "        width_shift_range=0.2,  # randomly shift images horizontally (fraction of total width)\n",
    "        height_shift_range=0.2,  # randomly shift images vertically (fraction of total height)\n",
    "        horizontal_flip=True,  # randomly flip images\n",
    "        vertical_flip=False)  # randomly flip images\n",
    "\n",
    "\n",
    "datagen.fit(X)"
   ]
  },
  {
   "cell_type": "code",
   "execution_count": 9,
   "metadata": {},
   "outputs": [
    {
     "name": "stderr",
     "output_type": "stream",
     "text": [
      "W1016 18:56:33.757437  2372 deprecation.py:323] From c:\\users\\tanishqa mahendru\\appdata\\local\\programs\\python\\python37\\lib\\site-packages\\tensorflow\\python\\ops\\math_grad.py:1250: add_dispatch_support.<locals>.wrapper (from tensorflow.python.ops.array_ops) is deprecated and will be removed in a future version.\n",
      "Instructions for updating:\n",
      "Use tf.where in 2.0, which has the same broadcast rule as np.where\n",
      "W1016 18:56:33.847442  2372 deprecation_wrapper.py:119] From c:\\users\\tanishqa mahendru\\appdata\\local\\programs\\python\\python37\\lib\\site-packages\\keras\\backend\\tensorflow_backend.py:1033: The name tf.assign_add is deprecated. Please use tf.compat.v1.assign_add instead.\n",
      "\n"
     ]
    },
    {
     "name": "stdout",
     "output_type": "stream",
     "text": [
      "Train on 109 samples, validate on 37 samples\n",
      "Epoch 1/20\n",
      "109/109 [==============================] - ETA: 5s - loss: 1.1134 - acc: 0.406 - ETA: 2s - loss: 1.5542 - acc: 0.359 - ETA: 0s - loss: 1.4148 - acc: 0.385 - 7s 63ms/step - loss: 1.3794 - acc: 0.3761 - val_loss: 1.0877 - val_acc: 0.4324\n",
      "Epoch 2/20\n",
      "109/109 [==============================] - ETA: 3s - loss: 1.0843 - acc: 0.468 - ETA: 2s - loss: 1.1023 - acc: 0.390 - ETA: 0s - loss: 1.0963 - acc: 0.354 - 6s 56ms/step - loss: 1.0937 - acc: 0.3578 - val_loss: 1.1501 - val_acc: 0.2973\n",
      "Epoch 3/20\n",
      "109/109 [==============================] - ETA: 3s - loss: 1.0539 - acc: 0.500 - ETA: 2s - loss: 1.0930 - acc: 0.390 - ETA: 0s - loss: 1.0731 - acc: 0.427 - 6s 56ms/step - loss: 1.0758 - acc: 0.4128 - val_loss: 1.0747 - val_acc: 0.2973\n",
      "Epoch 4/20\n",
      "109/109 [==============================] - ETA: 3s - loss: 1.0532 - acc: 0.375 - ETA: 2s - loss: 1.0535 - acc: 0.453 - ETA: 0s - loss: 1.0425 - acc: 0.489 - 6s 57ms/step - loss: 1.0313 - acc: 0.4954 - val_loss: 1.3850 - val_acc: 0.3243\n",
      "Epoch 5/20\n",
      "109/109 [==============================] - ETA: 3s - loss: 1.1123 - acc: 0.250 - ETA: 2s - loss: 1.0978 - acc: 0.359 - ETA: 0s - loss: 1.0725 - acc: 0.385 - 6s 57ms/step - loss: 1.0794 - acc: 0.3578 - val_loss: 1.0390 - val_acc: 0.4865\n",
      "Epoch 6/20\n",
      "109/109 [==============================] - ETA: 3s - loss: 1.0846 - acc: 0.375 - ETA: 2s - loss: 1.0627 - acc: 0.437 - ETA: 0s - loss: 1.0302 - acc: 0.479 - 6s 56ms/step - loss: 1.0197 - acc: 0.4771 - val_loss: 1.1897 - val_acc: 0.3784\n",
      "Epoch 7/20\n",
      "109/109 [==============================] - ETA: 4s - loss: 0.9201 - acc: 0.593 - ETA: 2s - loss: 1.0303 - acc: 0.515 - ETA: 0s - loss: 1.0174 - acc: 0.510 - 6s 57ms/step - loss: 1.0052 - acc: 0.5321 - val_loss: 0.9800 - val_acc: 0.6216\n",
      "Epoch 8/20\n",
      "109/109 [==============================] - ETA: 3s - loss: 0.9830 - acc: 0.531 - ETA: 2s - loss: 0.9092 - acc: 0.625 - ETA: 0s - loss: 0.8976 - acc: 0.635 - 6s 56ms/step - loss: 0.8908 - acc: 0.6514 - val_loss: 0.9636 - val_acc: 0.5135\n",
      "Epoch 9/20\n",
      "109/109 [==============================] - ETA: 3s - loss: 0.7966 - acc: 0.656 - ETA: 2s - loss: 0.8447 - acc: 0.640 - ETA: 0s - loss: 0.8491 - acc: 0.635 - 6s 57ms/step - loss: 0.8555 - acc: 0.6422 - val_loss: 1.0017 - val_acc: 0.5405\n",
      "Epoch 10/20\n",
      "109/109 [==============================] - ETA: 3s - loss: 0.8543 - acc: 0.593 - ETA: 2s - loss: 0.8263 - acc: 0.593 - ETA: 0s - loss: 0.8290 - acc: 0.593 - 6s 57ms/step - loss: 0.7908 - acc: 0.6330 - val_loss: 1.2829 - val_acc: 0.4595\n",
      "Epoch 11/20\n",
      "109/109 [==============================] - ETA: 3s - loss: 0.9617 - acc: 0.593 - ETA: 2s - loss: 0.8960 - acc: 0.593 - ETA: 0s - loss: 0.8731 - acc: 0.593 - 7s 61ms/step - loss: 0.8797 - acc: 0.5780 - val_loss: 0.9916 - val_acc: 0.5405\n",
      "Epoch 12/20\n",
      "109/109 [==============================] - ETA: 3s - loss: 0.7612 - acc: 0.812 - ETA: 2s - loss: 0.7669 - acc: 0.734 - ETA: 0s - loss: 0.7563 - acc: 0.750 - 6s 59ms/step - loss: 0.7458 - acc: 0.7431 - val_loss: 1.1596 - val_acc: 0.6216\n",
      "Epoch 13/20\n",
      "109/109 [==============================] - ETA: 4s - loss: 0.6907 - acc: 0.687 - ETA: 2s - loss: 0.6503 - acc: 0.734 - ETA: 0s - loss: 0.7731 - acc: 0.666 - 7s 64ms/step - loss: 0.7418 - acc: 0.6881 - val_loss: 0.9556 - val_acc: 0.7027\n",
      "Epoch 14/20\n",
      "109/109 [==============================] - ETA: 4s - loss: 0.7061 - acc: 0.593 - ETA: 2s - loss: 0.7108 - acc: 0.656 - ETA: 0s - loss: 0.6377 - acc: 0.697 - 6s 59ms/step - loss: 0.6222 - acc: 0.7248 - val_loss: 1.0302 - val_acc: 0.6486\n",
      "Epoch 15/20\n",
      "109/109 [==============================] - ETA: 4s - loss: 0.3815 - acc: 0.875 - ETA: 2s - loss: 0.4401 - acc: 0.859 - ETA: 0s - loss: 0.5324 - acc: 0.822 - 6s 58ms/step - loss: 0.6181 - acc: 0.7890 - val_loss: 1.4725 - val_acc: 0.5135\n",
      "Epoch 16/20\n",
      "109/109 [==============================] - ETA: 4s - loss: 0.5441 - acc: 0.781 - ETA: 2s - loss: 0.7589 - acc: 0.734 - ETA: 0s - loss: 0.7847 - acc: 0.718 - 7s 64ms/step - loss: 0.8309 - acc: 0.6881 - val_loss: 0.9901 - val_acc: 0.5135\n",
      "Epoch 17/20\n",
      "109/109 [==============================] - ETA: 4s - loss: 0.8497 - acc: 0.625 - ETA: 2s - loss: 0.7390 - acc: 0.703 - ETA: 0s - loss: 0.7366 - acc: 0.666 - 7s 63ms/step - loss: 0.7244 - acc: 0.6697 - val_loss: 1.0188 - val_acc: 0.5135\n",
      "Epoch 18/20\n",
      "109/109 [==============================] - ETA: 4s - loss: 0.6698 - acc: 0.750 - ETA: 2s - loss: 0.6940 - acc: 0.671 - ETA: 0s - loss: 0.7154 - acc: 0.687 - 7s 63ms/step - loss: 0.7016 - acc: 0.6972 - val_loss: 0.9908 - val_acc: 0.5946\n",
      "Epoch 19/20\n",
      "109/109 [==============================] - ETA: 3s - loss: 0.6262 - acc: 0.781 - ETA: 2s - loss: 0.6120 - acc: 0.781 - ETA: 0s - loss: 0.6041 - acc: 0.770 - 6s 59ms/step - loss: 0.6075 - acc: 0.7706 - val_loss: 0.9797 - val_acc: 0.6486\n",
      "Epoch 20/20\n",
      "109/109 [==============================] - ETA: 5s - loss: 0.5500 - acc: 0.781 - ETA: 3s - loss: 0.4852 - acc: 0.828 - ETA: 0s - loss: 0.4414 - acc: 0.843 - 8s 75ms/step - loss: 0.4743 - acc: 0.8073 - val_loss: 1.1482 - val_acc: 0.6216\n"
     ]
    },
    {
     "data": {
      "text/plain": [
       "<keras.callbacks.History at 0x1c6d3780>"
      ]
     },
     "execution_count": 9,
     "metadata": {},
     "output_type": "execute_result"
    }
   ],
   "source": [
    "model.fit(x_train,y_train,epochs=20, validation_data=(x_test,y_test))"
   ]
  },
  {
   "cell_type": "markdown",
   "metadata": {},
   "source": [
    "import tensorflow as tf\n",
    "import numpy as np\n",
    "from tensorflow import keras\n",
    "from tensorflow import lite"
   ]
  },
  {
   "cell_type": "markdown",
   "metadata": {},
   "source": [
    "from keras.models import load_model\n",
    "model.save(\"li.h5\")"
   ]
  },
  {
   "cell_type": "markdown",
   "metadata": {},
   "source": [
    "converter = lite.TocoConverter.from_keras_model_file(keras_file)\n",
    "tflite_model = converter.convert()\n",
    "open(\"lin.tflite\", \"wb\").write(tflite_model)"
   ]
  },
  {
   "cell_type": "code",
   "execution_count": 11,
   "metadata": {},
   "outputs": [
    {
     "name": "stdout",
     "output_type": "stream",
     "text": [
      "[[1.6750904e-03 1.4675467e-02 9.8364949e-01]\n",
      " [6.5605063e-04 4.8157653e-01 5.1776737e-01]\n",
      " [7.0031613e-01 2.5625378e-01 4.3430094e-02]\n",
      " [7.3005613e-03 3.7982516e-02 9.5471692e-01]\n",
      " [8.7908667e-01 3.2872006e-02 8.8041395e-02]\n",
      " [1.3497718e-02 8.0366832e-01 1.8283390e-01]\n",
      " [1.9464317e-01 1.4902729e-01 6.5632957e-01]\n",
      " [1.1180455e-01 6.0195172e-01 2.8624374e-01]\n",
      " [4.3517012e-02 4.5706096e-01 4.9942201e-01]\n",
      " [4.4974485e-01 5.4536104e-01 4.8941332e-03]\n",
      " [7.3949224e-01 6.9948114e-02 1.9055966e-01]\n",
      " [3.0428341e-01 4.9265072e-01 2.0306598e-01]\n",
      " [1.6224814e-03 7.3050672e-01 2.6787084e-01]\n",
      " [1.3205211e-01 1.4454457e-01 7.2340333e-01]\n",
      " [2.1522641e-02 8.4265196e-01 1.3582535e-01]\n",
      " [6.7517656e-01 2.0529570e-01 1.1952775e-01]\n",
      " [1.8854941e-01 4.4715634e-01 3.6429426e-01]\n",
      " [8.6109234e-05 9.9803728e-01 1.8766223e-03]\n",
      " [8.9285153e-01 9.8397680e-02 8.7507665e-03]\n",
      " [1.6750904e-03 1.4675467e-02 9.8364949e-01]\n",
      " [4.3772709e-02 9.0741557e-01 4.8811719e-02]\n",
      " [3.4888905e-02 9.4220346e-01 2.2907637e-02]\n",
      " [1.8243479e-02 7.4948013e-02 9.0680850e-01]\n",
      " [1.2054659e-03 9.9868661e-01 1.0794525e-04]\n",
      " [5.6044513e-01 2.2210015e-01 2.1745466e-01]\n",
      " [5.8889203e-02 8.6347066e-02 8.5476369e-01]\n",
      " [2.8406288e-05 9.7748789e-04 9.9899405e-01]\n",
      " [7.4372345e-01 2.4827029e-01 8.0062216e-03]\n",
      " [1.8913029e-01 3.0430773e-01 5.0656199e-01]\n",
      " [4.8191026e-01 2.6998779e-01 2.4810186e-01]\n",
      " [1.3036053e-01 2.5048906e-01 6.1915046e-01]\n",
      " [2.9127485e-01 3.8245758e-01 3.2626757e-01]\n",
      " [6.7728394e-01 1.8661940e-01 1.3609670e-01]\n",
      " [1.3615832e-01 1.2826605e-01 7.3557562e-01]\n",
      " [5.3118479e-01 2.2758622e-01 2.4122897e-01]\n",
      " [7.0413888e-01 8.0617949e-02 2.1524309e-01]\n",
      " [1.7574954e-01 8.2188863e-01 2.3618154e-03]]\n"
     ]
    }
   ],
   "source": [
    "pred=model.predict(x_test)\n",
    "print(pred)"
   ]
  },
  {
   "cell_type": "code",
   "execution_count": 12,
   "metadata": {},
   "outputs": [
    {
     "name": "stdout",
     "output_type": "stream",
     "text": [
      "[2 2 0 2 0 1 2 1 2 1 0 1 1 2 1 0 1 1 0 2 1 1 2 1 0 2 2 0 2 0 2 1 0 2 0 0 1]\n"
     ]
    }
   ],
   "source": [
    "pred_digits=np.argmax(pred,axis=1)\n",
    "print(pred_digits)"
   ]
  },
  {
   "cell_type": "code",
   "execution_count": 13,
   "metadata": {},
   "outputs": [
    {
     "name": "stdout",
     "output_type": "stream",
     "text": [
      "[0. 0. 1.]\n"
     ]
    }
   ],
   "source": [
    "print(y_test[0])"
   ]
  },
  {
   "cell_type": "code",
   "execution_count": 14,
   "metadata": {},
   "outputs": [
    {
     "name": "stdout",
     "output_type": "stream",
     "text": [
      "[0. 0. 1.]\n"
     ]
    }
   ],
   "source": [
    "print(y_test[1])"
   ]
  },
  {
   "cell_type": "code",
   "execution_count": 15,
   "metadata": {},
   "outputs": [
    {
     "name": "stdout",
     "output_type": "stream",
     "text": [
      "[1. 0. 0.]\n",
      "[1. 0. 0.]\n",
      "[1. 0. 0.]\n",
      "[0. 1. 0.]\n"
     ]
    }
   ],
   "source": [
    "print(y_test[2])\n",
    "print(y_test[3])\n",
    "print(y_test[4])\n",
    "print(y_test[5])"
   ]
  },
  {
   "cell_type": "code",
   "execution_count": 120,
   "metadata": {},
   "outputs": [],
   "source": [
    "import numpy as np\n",
    "from PIL import Image"
   ]
  },
  {
   "cell_type": "code",
   "execution_count": 121,
   "metadata": {},
   "outputs": [],
   "source": [
    "#img = np.invert(Image.open(\"C:\\\\Users\\\\Tanishqa Mahendru\\\\Desktop\\\\proj\\\\dataset\\\\ab.12.jpg\").convert('L')).ravel()\n",
    "img = Image.open(\"C:\\\\Users\\\\Tanishqa Mahendru\\\\Desktop\\\\proj\\\\dataset\\\\bu.16.jpg\")"
   ]
  },
  {
   "cell_type": "code",
   "execution_count": 122,
   "metadata": {},
   "outputs": [],
   "source": [
    "imgarr= np.array(img)"
   ]
  },
  {
   "cell_type": "code",
   "execution_count": 123,
   "metadata": {},
   "outputs": [],
   "source": [
    "imgarr.resize(1,150,150,3)"
   ]
  },
  {
   "cell_type": "code",
   "execution_count": 124,
   "metadata": {},
   "outputs": [],
   "source": [
    "pred1=model.predict(imgarr)"
   ]
  },
  {
   "cell_type": "code",
   "execution_count": 125,
   "metadata": {},
   "outputs": [
    {
     "name": "stdout",
     "output_type": "stream",
     "text": [
      "[[0. 0. 1.]]\n",
      "2\n"
     ]
    }
   ],
   "source": [
    "print(pred1)\n",
    "print(np.argmax(pred1))"
   ]
  },
  {
   "cell_type": "code",
   "execution_count": 126,
   "metadata": {},
   "outputs": [
    {
     "data": {
      "text/plain": [
       "(150, 150, 3)"
      ]
     },
     "execution_count": 126,
     "metadata": {},
     "output_type": "execute_result"
    }
   ],
   "source": [
    "X[0].shape"
   ]
  },
  {
   "cell_type": "code",
   "execution_count": null,
   "metadata": {},
   "outputs": [],
   "source": []
  },
  {
   "cell_type": "code",
   "execution_count": null,
   "metadata": {},
   "outputs": [],
   "source": []
  }
 ],
 "metadata": {
  "kernelspec": {
   "display_name": "Python 3",
   "language": "python",
   "name": "python3"
  },
  "language_info": {
   "codemirror_mode": {
    "name": "ipython",
    "version": 3
   },
   "file_extension": ".py",
   "mimetype": "text/x-python",
   "name": "python",
   "nbconvert_exporter": "python",
   "pygments_lexer": "ipython3",
   "version": "3.7.2"
  }
 },
 "nbformat": 4,
 "nbformat_minor": 2
}
