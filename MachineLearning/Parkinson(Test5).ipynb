{
 "cells": [
  {
   "cell_type": "code",
   "execution_count": 1,
   "metadata": {},
   "outputs": [],
   "source": [
    "X=[]\n",
    "Z=[]\n",
    "IMG_SIZE=150\n",
    "PAR_DIR = 'C:\\\\Users\\\\LAKSHAY SINGHAL\\\\Desktop\\\\withParkinsonDraw'\n",
    "NOPAR_DIR = 'C:\\\\Users\\\\LAKSHAY SINGHAL\\\\Desktop\\\\withoutParkinsonDraw'"
   ]
  },
  {
   "cell_type": "code",
   "execution_count": 2,
   "metadata": {},
   "outputs": [
    {
     "name": "stderr",
     "output_type": "stream",
     "text": [
      "100%|██████████████████████████████████████████████████████████████████████████████████| 93/93 [00:01<00:00, 68.77it/s]\n",
      "100%|██████████████████████████████████████████████████████████████████████████████████| 67/67 [00:01<00:00, 49.61it/s]\n"
     ]
    }
   ],
   "source": [
    "from tqdm import tqdm\n",
    "import os      \n",
    "import cv2\n",
    "import numpy as np\n",
    "from skimage.filters import threshold_otsu\n",
    "from skimage import color\n",
    "from skimage.feature import canny\n",
    "\n",
    "def assign_label(img,wtype):\n",
    "    return wtype\n",
    "\n",
    "def make_train_data(wtype,DIR):\n",
    "    for img in tqdm(os.listdir(DIR)):\n",
    "        label=assign_label(img,wtype)\n",
    "        path = os.path.join(DIR,img)\n",
    "        img = cv2.imread(path,cv2.IMREAD_COLOR)\n",
    "        img = cv2.resize(img, (IMG_SIZE,IMG_SIZE))\n",
    "        imgarr = np.array(img)\n",
    "        imgB = color.rgb2gray(imgarr)\n",
    "        thresh = threshold_otsu(imgB)\n",
    "        binary1 = imgB < thresh\n",
    "        canny_edges = canny(imgB, sigma=0)\n",
    "        \n",
    "        X.append(canny_edges)\n",
    "        Z.append(str(label))\n",
    "        \n",
    "make_train_data('withParkinson',PAR_DIR)\n",
    "make_train_data('withoutParkinson',NOPAR_DIR)"
   ]
  },
  {
   "cell_type": "code",
   "execution_count": 3,
   "metadata": {},
   "outputs": [
    {
     "name": "stderr",
     "output_type": "stream",
     "text": [
      "c:\\users\\lakshay singhal\\appdata\\local\\programs\\python\\python35\\lib\\site-packages\\ipykernel_launcher.py:2: DeprecationWarning: Both axis > a.ndim and axis < -a.ndim - 1 are deprecated and will raise an AxisError in the future.\n",
      "  \n"
     ]
    }
   ],
   "source": [
    "for i in range(160):\n",
    "    X[i] = np.expand_dims(X[i], axis=3)"
   ]
  },
  {
   "cell_type": "code",
   "execution_count": 4,
   "metadata": {},
   "outputs": [
    {
     "data": {
      "text/plain": [
       "(150, 150, 1)"
      ]
     },
     "execution_count": 4,
     "metadata": {},
     "output_type": "execute_result"
    }
   ],
   "source": [
    "X[0].shape"
   ]
  },
  {
   "cell_type": "code",
   "execution_count": 5,
   "metadata": {},
   "outputs": [
    {
     "name": "stderr",
     "output_type": "stream",
     "text": [
      "Using TensorFlow backend.\n"
     ]
    }
   ],
   "source": [
    "from keras import backend as K\n",
    "from keras.models import Sequential\n",
    "from keras.layers import Dense\n",
    "from keras.optimizers import Adam,SGD,Adagrad,Adadelta,RMSprop\n",
    "from keras.utils import to_categorical"
   ]
  },
  {
   "cell_type": "code",
   "execution_count": 6,
   "metadata": {},
   "outputs": [],
   "source": [
    "from sklearn.preprocessing import LabelEncoder\n",
    "\n",
    "le=LabelEncoder()\n",
    "Y=le.fit_transform(Z)\n",
    "Y=to_categorical(Y,2)\n",
    "X=np.array(X)"
   ]
  },
  {
   "cell_type": "code",
   "execution_count": 7,
   "metadata": {},
   "outputs": [
    {
     "data": {
      "text/plain": [
       "(160, 150, 150, 1)"
      ]
     },
     "execution_count": 7,
     "metadata": {},
     "output_type": "execute_result"
    }
   ],
   "source": [
    "X=X/255\n",
    "X.shape"
   ]
  },
  {
   "cell_type": "code",
   "execution_count": 8,
   "metadata": {},
   "outputs": [],
   "source": [
    "from sklearn.model_selection import train_test_split\n",
    "x_train,x_test,y_train,y_test=train_test_split(X,Y,test_size=0.25,random_state=42)"
   ]
  },
  {
   "cell_type": "code",
   "execution_count": 9,
   "metadata": {},
   "outputs": [
    {
     "name": "stderr",
     "output_type": "stream",
     "text": [
      "WARNING: Logging before flag parsing goes to stderr.\n",
      "W1107 22:59:11.259068 14876 deprecation_wrapper.py:119] From c:\\users\\lakshay singhal\\appdata\\local\\programs\\python\\python35\\lib\\site-packages\\keras\\backend\\tensorflow_backend.py:4070: The name tf.nn.max_pool is deprecated. Please use tf.nn.max_pool2d instead.\n",
      "\n"
     ]
    }
   ],
   "source": [
    "from keras.layers import Dropout, Flatten,Activation\n",
    "from keras.layers import Conv2D, MaxPooling2D, BatchNormalization\n",
    "\n",
    "model = Sequential()\n",
    "model.add(Conv2D(32, (3, 3), activation='relu', kernel_initializer='he_uniform', input_shape=(150, 150, 1)))\n",
    "model.add(MaxPooling2D((2, 2)))\n",
    "model.add(Flatten())\n",
    "model.add(Dense(100, activation='relu', kernel_initializer='he_uniform'))\n",
    "model.add(Dense(2, activation='softmax'))"
   ]
  },
  {
   "cell_type": "code",
   "execution_count": 10,
   "metadata": {},
   "outputs": [],
   "source": [
    "model.compile(optimizer=Adam(lr=0.001),loss='categorical_crossentropy',metrics=['accuracy'])"
   ]
  },
  {
   "cell_type": "code",
   "execution_count": 11,
   "metadata": {},
   "outputs": [
    {
     "name": "stderr",
     "output_type": "stream",
     "text": [
      "W1107 22:59:17.138548 14876 deprecation_wrapper.py:119] From c:\\users\\lakshay singhal\\appdata\\local\\programs\\python\\python35\\lib\\site-packages\\keras\\backend\\tensorflow_backend.py:422: The name tf.global_variables is deprecated. Please use tf.compat.v1.global_variables instead.\n",
      "\n"
     ]
    },
    {
     "name": "stdout",
     "output_type": "stream",
     "text": [
      "Train on 120 samples, validate on 40 samples\n",
      "Epoch 1/40\n",
      "120/120 [==============================] - ETA: 1s - loss: 0.6933 - accuracy: 0.53 - ETA: 0s - loss: 0.6938 - accuracy: 0.50 - ETA: 0s - loss: 0.6763 - accuracy: 0.61 - 2s 18ms/step - loss: 0.6583 - accuracy: 0.6333 - val_loss: 0.6363 - val_accuracy: 0.5750\n",
      "Epoch 2/40\n",
      "120/120 [==============================] - ETA: 1s - loss: 0.5057 - accuracy: 0.68 - ETA: 0s - loss: 0.6090 - accuracy: 0.59 - ETA: 0s - loss: 0.5866 - accuracy: 0.58 - 2s 15ms/step - loss: 0.5595 - accuracy: 0.6333 - val_loss: 0.5693 - val_accuracy: 0.6750\n",
      "Epoch 3/40\n",
      "120/120 [==============================] - ETA: 1s - loss: 0.4107 - accuracy: 0.87 - ETA: 0s - loss: 0.4228 - accuracy: 0.90 - ETA: 0s - loss: 0.4267 - accuracy: 0.92 - 2s 15ms/step - loss: 0.4295 - accuracy: 0.9167 - val_loss: 0.5515 - val_accuracy: 0.7000\n",
      "Epoch 4/40\n",
      "120/120 [==============================] - ETA: 1s - loss: 0.4111 - accuracy: 0.84 - ETA: 0s - loss: 0.3769 - accuracy: 0.89 - ETA: 0s - loss: 0.3552 - accuracy: 0.92 - 2s 15ms/step - loss: 0.3441 - accuracy: 0.9333 - val_loss: 0.4991 - val_accuracy: 0.7250\n",
      "Epoch 5/40\n",
      "120/120 [==============================] - ETA: 1s - loss: 0.2743 - accuracy: 0.96 - ETA: 0s - loss: 0.2381 - accuracy: 0.98 - ETA: 0s - loss: 0.2330 - accuracy: 0.98 - 2s 15ms/step - loss: 0.2330 - accuracy: 0.9917 - val_loss: 0.4407 - val_accuracy: 0.8000\n",
      "Epoch 6/40\n",
      "120/120 [==============================] - ETA: 1s - loss: 0.1826 - accuracy: 0.96 - ETA: 0s - loss: 0.1778 - accuracy: 0.96 - ETA: 0s - loss: 0.1677 - accuracy: 0.97 - 2s 15ms/step - loss: 0.1543 - accuracy: 0.9833 - val_loss: 0.4689 - val_accuracy: 0.8000\n",
      "Epoch 7/40\n",
      "120/120 [==============================] - ETA: 1s - loss: 0.1319 - accuracy: 1.00 - ETA: 0s - loss: 0.1197 - accuracy: 1.00 - ETA: 0s - loss: 0.1090 - accuracy: 1.00 - 2s 15ms/step - loss: 0.1037 - accuracy: 1.0000 - val_loss: 0.4638 - val_accuracy: 0.8000\n",
      "Epoch 8/40\n",
      "120/120 [==============================] - ETA: 1s - loss: 0.1026 - accuracy: 1.00 - ETA: 0s - loss: 0.0940 - accuracy: 1.00 - ETA: 0s - loss: 0.0881 - accuracy: 1.00 - 2s 16ms/step - loss: 0.0812 - accuracy: 1.0000 - val_loss: 0.4540 - val_accuracy: 0.8000\n",
      "Epoch 9/40\n",
      "120/120 [==============================] - ETA: 1s - loss: 0.0670 - accuracy: 1.00 - ETA: 0s - loss: 0.0638 - accuracy: 1.00 - ETA: 0s - loss: 0.0594 - accuracy: 1.00 - 2s 15ms/step - loss: 0.0563 - accuracy: 1.0000 - val_loss: 0.4020 - val_accuracy: 0.8250\n",
      "Epoch 10/40\n",
      "120/120 [==============================] - ETA: 1s - loss: 0.0435 - accuracy: 1.00 - ETA: 0s - loss: 0.0369 - accuracy: 1.00 - ETA: 0s - loss: 0.0396 - accuracy: 1.00 - 2s 15ms/step - loss: 0.0380 - accuracy: 1.0000 - val_loss: 0.5466 - val_accuracy: 0.8000\n",
      "Epoch 11/40\n",
      "120/120 [==============================] - ETA: 1s - loss: 0.0439 - accuracy: 1.00 - ETA: 0s - loss: 0.0394 - accuracy: 1.00 - ETA: 0s - loss: 0.0402 - accuracy: 1.00 - 2s 16ms/step - loss: 0.0363 - accuracy: 1.0000 - val_loss: 0.3580 - val_accuracy: 0.8500\n",
      "Epoch 12/40\n",
      "120/120 [==============================] - ETA: 1s - loss: 0.0256 - accuracy: 1.00 - ETA: 0s - loss: 0.0225 - accuracy: 1.00 - ETA: 0s - loss: 0.0202 - accuracy: 1.00 - 2s 15ms/step - loss: 0.0242 - accuracy: 1.0000 - val_loss: 0.3898 - val_accuracy: 0.8250\n",
      "Epoch 13/40\n",
      "120/120 [==============================] - ETA: 1s - loss: 0.0155 - accuracy: 1.00 - ETA: 0s - loss: 0.0156 - accuracy: 1.00 - ETA: 0s - loss: 0.0215 - accuracy: 1.00 - 2s 15ms/step - loss: 0.0214 - accuracy: 1.0000 - val_loss: 0.4563 - val_accuracy: 0.8000\n",
      "Epoch 14/40\n",
      "120/120 [==============================] - ETA: 1s - loss: 0.0189 - accuracy: 1.00 - ETA: 0s - loss: 0.0215 - accuracy: 1.00 - ETA: 0s - loss: 0.0224 - accuracy: 1.00 - 2s 15ms/step - loss: 0.0208 - accuracy: 1.0000 - val_loss: 0.3491 - val_accuracy: 0.8500\n",
      "Epoch 15/40\n",
      "120/120 [==============================] - ETA: 1s - loss: 0.0228 - accuracy: 1.00 - ETA: 0s - loss: 0.0192 - accuracy: 1.00 - ETA: 0s - loss: 0.0182 - accuracy: 1.00 - 2s 15ms/step - loss: 0.0161 - accuracy: 1.0000 - val_loss: 0.4497 - val_accuracy: 0.8000\n",
      "Epoch 16/40\n",
      "120/120 [==============================] - ETA: 1s - loss: 0.0149 - accuracy: 1.00 - ETA: 0s - loss: 0.0150 - accuracy: 1.00 - ETA: 0s - loss: 0.0136 - accuracy: 1.00 - 2s 15ms/step - loss: 0.0124 - accuracy: 1.0000 - val_loss: 0.3734 - val_accuracy: 0.8500\n",
      "Epoch 17/40\n",
      "120/120 [==============================] - ETA: 1s - loss: 0.0083 - accuracy: 1.00 - ETA: 0s - loss: 0.0088 - accuracy: 1.00 - ETA: 0s - loss: 0.0090 - accuracy: 1.00 - 2s 16ms/step - loss: 0.0091 - accuracy: 1.0000 - val_loss: 0.3741 - val_accuracy: 0.8500\n",
      "Epoch 18/40\n",
      "120/120 [==============================] - ETA: 1s - loss: 0.0078 - accuracy: 1.00 - ETA: 0s - loss: 0.0079 - accuracy: 1.00 - ETA: 0s - loss: 0.0074 - accuracy: 1.00 - 2s 15ms/step - loss: 0.0075 - accuracy: 1.0000 - val_loss: 0.4213 - val_accuracy: 0.8250\n",
      "Epoch 19/40\n",
      "120/120 [==============================] - ETA: 1s - loss: 0.0066 - accuracy: 1.00 - ETA: 0s - loss: 0.0071 - accuracy: 1.00 - ETA: 0s - loss: 0.0072 - accuracy: 1.00 - 2s 15ms/step - loss: 0.0071 - accuracy: 1.0000 - val_loss: 0.3703 - val_accuracy: 0.8750\n",
      "Epoch 20/40\n",
      "120/120 [==============================] - ETA: 1s - loss: 0.0061 - accuracy: 1.00 - ETA: 0s - loss: 0.0062 - accuracy: 1.00 - ETA: 0s - loss: 0.0062 - accuracy: 1.00 - 2s 15ms/step - loss: 0.0064 - accuracy: 1.0000 - val_loss: 0.3908 - val_accuracy: 0.8250\n",
      "Epoch 21/40\n",
      "120/120 [==============================] - ETA: 1s - loss: 0.0051 - accuracy: 1.00 - ETA: 0s - loss: 0.0055 - accuracy: 1.00 - ETA: 0s - loss: 0.0064 - accuracy: 1.00 - 2s 15ms/step - loss: 0.0060 - accuracy: 1.0000 - val_loss: 0.4034 - val_accuracy: 0.8250\n",
      "Epoch 22/40\n",
      "120/120 [==============================] - ETA: 1s - loss: 0.0048 - accuracy: 1.00 - ETA: 0s - loss: 0.0051 - accuracy: 1.00 - ETA: 0s - loss: 0.0051 - accuracy: 1.00 - 2s 15ms/step - loss: 0.0054 - accuracy: 1.0000 - val_loss: 0.3700 - val_accuracy: 0.8750\n",
      "Epoch 23/40\n",
      "120/120 [==============================] - ETA: 1s - loss: 0.0048 - accuracy: 1.00 - ETA: 0s - loss: 0.0052 - accuracy: 1.00 - ETA: 0s - loss: 0.0049 - accuracy: 1.00 - 2s 15ms/step - loss: 0.0048 - accuracy: 1.0000 - val_loss: 0.4196 - val_accuracy: 0.8250\n",
      "Epoch 24/40\n",
      "120/120 [==============================] - ETA: 1s - loss: 0.0050 - accuracy: 1.00 - ETA: 0s - loss: 0.0045 - accuracy: 1.00 - ETA: 0s - loss: 0.0045 - accuracy: 1.00 - 2s 15ms/step - loss: 0.0046 - accuracy: 1.0000 - val_loss: 0.3890 - val_accuracy: 0.8250\n",
      "Epoch 25/40\n",
      "120/120 [==============================] - ETA: 1s - loss: 0.0040 - accuracy: 1.00 - ETA: 0s - loss: 0.0039 - accuracy: 1.00 - ETA: 0s - loss: 0.0043 - accuracy: 1.00 - 2s 15ms/step - loss: 0.0043 - accuracy: 1.0000 - val_loss: 0.3746 - val_accuracy: 0.8750\n",
      "Epoch 26/40\n",
      "120/120 [==============================] - ETA: 1s - loss: 0.0033 - accuracy: 1.00 - ETA: 0s - loss: 0.0037 - accuracy: 1.00 - ETA: 0s - loss: 0.0039 - accuracy: 1.00 - 2s 15ms/step - loss: 0.0039 - accuracy: 1.0000 - val_loss: 0.4230 - val_accuracy: 0.8250\n",
      "Epoch 27/40\n",
      "120/120 [==============================] - ETA: 1s - loss: 0.0048 - accuracy: 1.00 - ETA: 0s - loss: 0.0038 - accuracy: 1.00 - ETA: 0s - loss: 0.0039 - accuracy: 1.00 - 2s 16ms/step - loss: 0.0039 - accuracy: 1.0000 - val_loss: 0.3986 - val_accuracy: 0.8250\n",
      "Epoch 28/40\n",
      "120/120 [==============================] - ETA: 1s - loss: 0.0034 - accuracy: 1.00 - ETA: 0s - loss: 0.0033 - accuracy: 1.00 - ETA: 0s - loss: 0.0038 - accuracy: 1.00 - 2s 15ms/step - loss: 0.0037 - accuracy: 1.0000 - val_loss: 0.3705 - val_accuracy: 0.8750\n",
      "Epoch 29/40\n",
      "120/120 [==============================] - ETA: 1s - loss: 0.0036 - accuracy: 1.00 - ETA: 0s - loss: 0.0034 - accuracy: 1.00 - ETA: 0s - loss: 0.0033 - accuracy: 1.00 - 2s 15ms/step - loss: 0.0033 - accuracy: 1.0000 - val_loss: 0.4358 - val_accuracy: 0.8250\n",
      "Epoch 30/40\n",
      "120/120 [==============================] - ETA: 1s - loss: 0.0034 - accuracy: 1.00 - ETA: 0s - loss: 0.0031 - accuracy: 1.00 - ETA: 0s - loss: 0.0034 - accuracy: 1.00 - 2s 15ms/step - loss: 0.0034 - accuracy: 1.0000 - val_loss: 0.4049 - val_accuracy: 0.8250\n",
      "Epoch 31/40\n",
      "120/120 [==============================] - ETA: 1s - loss: 0.0026 - accuracy: 1.00 - ETA: 0s - loss: 0.0026 - accuracy: 1.00 - ETA: 0s - loss: 0.0029 - accuracy: 1.00 - 2s 15ms/step - loss: 0.0031 - accuracy: 1.0000 - val_loss: 0.3647 - val_accuracy: 0.8750\n",
      "Epoch 32/40\n",
      "120/120 [==============================] - ETA: 1s - loss: 0.0030 - accuracy: 1.00 - ETA: 0s - loss: 0.0030 - accuracy: 1.00 - ETA: 0s - loss: 0.0030 - accuracy: 1.00 - 2s 15ms/step - loss: 0.0028 - accuracy: 1.0000 - val_loss: 0.4312 - val_accuracy: 0.8250\n",
      "Epoch 33/40\n",
      "120/120 [==============================] - ETA: 1s - loss: 0.0029 - accuracy: 1.00 - ETA: 0s - loss: 0.0030 - accuracy: 1.00 - ETA: 0s - loss: 0.0029 - accuracy: 1.00 - 2s 16ms/step - loss: 0.0029 - accuracy: 1.0000 - val_loss: 0.4256 - val_accuracy: 0.8250\n",
      "Epoch 34/40\n",
      "120/120 [==============================] - ETA: 1s - loss: 0.0027 - accuracy: 1.00 - ETA: 0s - loss: 0.0024 - accuracy: 1.00 - ETA: 0s - loss: 0.0025 - accuracy: 1.00 - 2s 16ms/step - loss: 0.0025 - accuracy: 1.0000 - val_loss: 0.3738 - val_accuracy: 0.8750\n",
      "Epoch 35/40\n",
      "120/120 [==============================] - ETA: 1s - loss: 0.0025 - accuracy: 1.00 - ETA: 0s - loss: 0.0028 - accuracy: 1.00 - ETA: 0s - loss: 0.0025 - accuracy: 1.00 - 2s 15ms/step - loss: 0.0025 - accuracy: 1.0000 - val_loss: 0.4016 - val_accuracy: 0.8250\n",
      "Epoch 36/40\n",
      "120/120 [==============================] - ETA: 1s - loss: 0.0020 - accuracy: 1.00 - ETA: 0s - loss: 0.0022 - accuracy: 1.00 - ETA: 0s - loss: 0.0025 - accuracy: 1.00 - 2s 15ms/step - loss: 0.0024 - accuracy: 1.0000 - val_loss: 0.4460 - val_accuracy: 0.8250\n",
      "Epoch 37/40\n",
      "120/120 [==============================] - ETA: 1s - loss: 0.0020 - accuracy: 1.00 - ETA: 0s - loss: 0.0022 - accuracy: 1.00 - ETA: 0s - loss: 0.0022 - accuracy: 1.00 - 2s 15ms/step - loss: 0.0023 - accuracy: 1.0000 - val_loss: 0.3871 - val_accuracy: 0.8750\n",
      "Epoch 38/40\n",
      "120/120 [==============================] - ETA: 1s - loss: 0.0019 - accuracy: 1.00 - ETA: 0s - loss: 0.0021 - accuracy: 1.00 - ETA: 0s - loss: 0.0021 - accuracy: 1.00 - 2s 16ms/step - loss: 0.0021 - accuracy: 1.0000 - val_loss: 0.4063 - val_accuracy: 0.8250\n",
      "Epoch 39/40\n",
      "120/120 [==============================] - ETA: 1s - loss: 0.0022 - accuracy: 1.00 - ETA: 0s - loss: 0.0021 - accuracy: 1.00 - ETA: 0s - loss: 0.0020 - accuracy: 1.00 - 2s 15ms/step - loss: 0.0020 - accuracy: 1.0000 - val_loss: 0.4077 - val_accuracy: 0.8250\n",
      "Epoch 40/40\n",
      "120/120 [==============================] - ETA: 1s - loss: 0.0019 - accuracy: 1.00 - ETA: 0s - loss: 0.0019 - accuracy: 1.00 - ETA: 0s - loss: 0.0019 - accuracy: 1.00 - 2s 15ms/step - loss: 0.0019 - accuracy: 1.0000 - val_loss: 0.4083 - val_accuracy: 0.8250\n"
     ]
    },
    {
     "data": {
      "text/plain": [
       "<keras.callbacks.callbacks.History at 0x242148fd7b8>"
      ]
     },
     "execution_count": 11,
     "metadata": {},
     "output_type": "execute_result"
    }
   ],
   "source": [
    "model.fit(x_train,y_train,epochs=40, validation_data=(x_test,y_test))"
   ]
  },
  {
   "cell_type": "code",
   "execution_count": 43,
   "metadata": {},
   "outputs": [],
   "source": [
    "import tensorflow as tf\n",
    "from tensorflow import keras\n",
    "from tensorflow import lite"
   ]
  },
  {
   "cell_type": "code",
   "execution_count": 44,
   "metadata": {},
   "outputs": [],
   "source": [
    "keras_file = \"parkinson5.h5\"\n",
    "keras.models.save_model(model, keras_file)"
   ]
  },
  {
   "cell_type": "code",
   "execution_count": 45,
   "metadata": {},
   "outputs": [
    {
     "name": "stderr",
     "output_type": "stream",
     "text": [
      "W1107 23:43:41.432426 14876 deprecation.py:323] From <ipython-input-45-0801713ffa87>:1: TocoConverter.from_keras_model_file (from tensorflow.lite.python.lite) is deprecated and will be removed in a future version.\n",
      "Instructions for updating:\n",
      "Use `lite.TFLiteConverter.from_keras_model_file` instead.\n",
      "W1107 23:43:44.446586 14876 deprecation.py:323] From c:\\users\\lakshay singhal\\appdata\\local\\programs\\python\\python35\\lib\\site-packages\\tensorflow\\lite\\python\\util.py:238: convert_variables_to_constants (from tensorflow.python.framework.graph_util_impl) is deprecated and will be removed in a future version.\n",
      "Instructions for updating:\n",
      "Use `tf.compat.v1.graph_util.convert_variables_to_constants`\n",
      "W1107 23:43:44.448196 14876 deprecation.py:323] From c:\\users\\lakshay singhal\\appdata\\local\\programs\\python\\python35\\lib\\site-packages\\tensorflow\\python\\framework\\graph_util_impl.py:270: extract_sub_graph (from tensorflow.python.framework.graph_util_impl) is deprecated and will be removed in a future version.\n",
      "Instructions for updating:\n",
      "Use `tf.compat.v1.graph_util.extract_sub_graph`\n"
     ]
    },
    {
     "data": {
      "text/plain": [
       "70096912"
      ]
     },
     "execution_count": 45,
     "metadata": {},
     "output_type": "execute_result"
    }
   ],
   "source": [
    "converter = lite.TocoConverter.from_keras_model_file(keras_file)\n",
    "tflite_model = converter.convert()\n",
    "open(\"parkinson5.tflite\", \"wb\").write(tflite_model)"
   ]
  },
  {
   "cell_type": "code",
   "execution_count": 42,
   "metadata": {},
   "outputs": [
    {
     "name": "stderr",
     "output_type": "stream",
     "text": [
      "  0%|                                                                                           | 0/93 [00:00<?, ?it/s]c:\\users\\lakshay singhal\\appdata\\local\\programs\\python\\python35\\lib\\site-packages\\ipykernel_launcher.py:12: DeprecationWarning: Both axis > a.ndim and axis < -a.ndim - 1 are deprecated and will raise an AxisError in the future.\n",
      "  if sys.path[0] == '':\n"
     ]
    },
    {
     "name": "stdout",
     "output_type": "stream",
     "text": [
      "[[1. 0.]]\n",
      "0\n",
      "[[1. 0.]]\n",
      "0\n",
      "[[1. 0.]]\n",
      "0\n",
      "[[1. 0.]]\n",
      "0\n"
     ]
    },
    {
     "name": "stderr",
     "output_type": "stream",
     "text": [
      "  4%|███▌                                                                               | 4/93 [00:00<00:02, 35.49it/s]"
     ]
    },
    {
     "name": "stdout",
     "output_type": "stream",
     "text": [
      "[[1. 0.]]\n",
      "0\n",
      "[[1. 0.]]\n",
      "0\n",
      "[[1. 0.]]\n",
      "0\n",
      "[[1. 0.]]\n",
      "0\n"
     ]
    },
    {
     "name": "stderr",
     "output_type": "stream",
     "text": [
      "  9%|███████▏                                                                           | 8/93 [00:00<00:02, 35.71it/s]"
     ]
    },
    {
     "name": "stdout",
     "output_type": "stream",
     "text": [
      "[[1. 0.]]\n",
      "0\n",
      "[[1. 0.]]\n",
      "0\n",
      "[[1. 0.]]\n",
      "0\n"
     ]
    },
    {
     "name": "stderr",
     "output_type": "stream",
     "text": [
      " 12%|█████████▋                                                                        | 11/93 [00:00<00:02, 32.08it/s]"
     ]
    },
    {
     "name": "stdout",
     "output_type": "stream",
     "text": [
      "[[1. 0.]]\n",
      "0\n",
      "[[1. 0.]]\n",
      "0\n",
      "[[1. 0.]]\n",
      "0\n"
     ]
    },
    {
     "name": "stderr",
     "output_type": "stream",
     "text": [
      " 15%|████████████▎                                                                     | 14/93 [00:00<00:02, 30.75it/s]"
     ]
    },
    {
     "name": "stdout",
     "output_type": "stream",
     "text": [
      "[[1. 0.]]\n",
      "0\n",
      "[[1. 0.]]\n",
      "0\n",
      "[[1. 0.]]\n",
      "0\n"
     ]
    },
    {
     "name": "stderr",
     "output_type": "stream",
     "text": [
      " 18%|██████████████▉                                                                   | 17/93 [00:00<00:02, 29.78it/s]"
     ]
    },
    {
     "name": "stdout",
     "output_type": "stream",
     "text": [
      "[[1. 0.]]\n",
      "0\n",
      "[[1. 0.]]\n",
      "0\n",
      "[[1. 0.]]\n",
      "0\n"
     ]
    },
    {
     "name": "stderr",
     "output_type": "stream",
     "text": [
      " 22%|█████████████████▋                                                                | 20/93 [00:00<00:02, 29.41it/s]"
     ]
    },
    {
     "name": "stdout",
     "output_type": "stream",
     "text": [
      "[[1. 0.]]\n",
      "0\n",
      "[[1. 0.]]\n",
      "0\n",
      "[[1. 0.]]\n",
      "0\n"
     ]
    },
    {
     "name": "stderr",
     "output_type": "stream",
     "text": [
      " 25%|████████████████████▎                                                             | 23/93 [00:00<00:02, 28.65it/s]"
     ]
    },
    {
     "name": "stdout",
     "output_type": "stream",
     "text": [
      "[[1. 0.]]\n",
      "0\n",
      "[[1. 0.]]\n",
      "0\n",
      "[[1. 0.]]\n",
      "0\n"
     ]
    },
    {
     "name": "stderr",
     "output_type": "stream",
     "text": [
      " 28%|██████████████████████▉                                                           | 26/93 [00:00<00:02, 28.40it/s]"
     ]
    },
    {
     "name": "stdout",
     "output_type": "stream",
     "text": [
      "[[1. 0.]]\n",
      "0\n",
      "[[1. 0.]]\n",
      "0\n",
      "[[1. 0.]]\n",
      "0\n"
     ]
    },
    {
     "name": "stderr",
     "output_type": "stream",
     "text": [
      " 31%|█████████████████████████▌                                                        | 29/93 [00:00<00:02, 28.04it/s]"
     ]
    },
    {
     "name": "stdout",
     "output_type": "stream",
     "text": [
      "[[1. 0.]]\n",
      "0\n",
      "[[1. 0.]]\n",
      "0\n",
      "[[1. 0.]]\n",
      "0\n"
     ]
    },
    {
     "name": "stderr",
     "output_type": "stream",
     "text": [
      " 34%|████████████████████████████▏                                                     | 32/93 [00:01<00:02, 27.75it/s]"
     ]
    },
    {
     "name": "stdout",
     "output_type": "stream",
     "text": [
      "[[1. 0.]]\n",
      "0\n",
      "[[1. 0.]]\n",
      "0\n",
      "[[1. 0.]]\n",
      "0\n"
     ]
    },
    {
     "name": "stderr",
     "output_type": "stream",
     "text": [
      " 38%|██████████████████████████████▊                                                   | 35/93 [00:01<00:02, 27.63it/s]"
     ]
    },
    {
     "name": "stdout",
     "output_type": "stream",
     "text": [
      "[[1. 0.]]\n",
      "0\n",
      "[[1. 0.]]\n",
      "0\n",
      "[[1. 0.]]\n",
      "0\n"
     ]
    },
    {
     "name": "stderr",
     "output_type": "stream",
     "text": [
      " 41%|█████████████████████████████████▌                                                | 38/93 [00:01<00:02, 27.08it/s]"
     ]
    },
    {
     "name": "stdout",
     "output_type": "stream",
     "text": [
      "[[1. 0.]]\n",
      "0\n",
      "[[1. 0.]]\n",
      "0\n",
      "[[1. 0.]]\n",
      "0\n"
     ]
    },
    {
     "name": "stderr",
     "output_type": "stream",
     "text": [
      " 44%|████████████████████████████████████▏                                             | 41/93 [00:01<00:01, 26.89it/s]"
     ]
    },
    {
     "name": "stdout",
     "output_type": "stream",
     "text": [
      "[[1. 0.]]\n",
      "0\n",
      "[[1. 0.]]\n",
      "0\n",
      "[[1. 0.]]\n",
      "0\n"
     ]
    },
    {
     "name": "stderr",
     "output_type": "stream",
     "text": [
      " 47%|██████████████████████████████████████▊                                           | 44/93 [00:01<00:01, 27.25it/s]"
     ]
    },
    {
     "name": "stdout",
     "output_type": "stream",
     "text": [
      "[[1. 0.]]\n",
      "0\n",
      "[[1. 0.]]\n",
      "0\n",
      "[[1. 0.]]\n",
      "0\n"
     ]
    },
    {
     "name": "stderr",
     "output_type": "stream",
     "text": [
      " 51%|█████████████████████████████████████████▍                                        | 47/93 [00:01<00:01, 26.92it/s]"
     ]
    },
    {
     "name": "stdout",
     "output_type": "stream",
     "text": [
      "[[1. 0.]]\n",
      "0\n",
      "[[1. 0.]]\n",
      "0\n",
      "[[1. 0.]]\n",
      "0\n"
     ]
    },
    {
     "name": "stderr",
     "output_type": "stream",
     "text": [
      " 54%|████████████████████████████████████████████                                      | 50/93 [00:01<00:01, 26.57it/s]"
     ]
    },
    {
     "name": "stdout",
     "output_type": "stream",
     "text": [
      "[[1. 0.]]\n",
      "0\n",
      "[[1. 0.]]\n",
      "0\n",
      "[[1. 0.]]\n",
      "0\n"
     ]
    },
    {
     "name": "stderr",
     "output_type": "stream",
     "text": [
      " 57%|██████████████████████████████████████████████▋                                   | 53/93 [00:01<00:01, 26.18it/s]"
     ]
    },
    {
     "name": "stdout",
     "output_type": "stream",
     "text": [
      "[[1. 0.]]\n",
      "0\n",
      "[[1. 0.]]\n",
      "0\n",
      "[[1. 0.]]\n",
      "0\n"
     ]
    },
    {
     "name": "stderr",
     "output_type": "stream",
     "text": [
      " 60%|█████████████████████████████████████████████████▍                                | 56/93 [00:02<00:01, 25.70it/s]"
     ]
    },
    {
     "name": "stdout",
     "output_type": "stream",
     "text": [
      "[[1. 0.]]\n",
      "0\n",
      "[[1. 0.]]\n",
      "0\n",
      "[[1. 0.]]\n",
      "0\n"
     ]
    },
    {
     "name": "stderr",
     "output_type": "stream",
     "text": [
      " 63%|████████████████████████████████████████████████████                              | 59/93 [00:02<00:01, 25.56it/s]"
     ]
    },
    {
     "name": "stdout",
     "output_type": "stream",
     "text": [
      "[[1. 0.]]\n",
      "0\n",
      "[[1. 0.]]\n",
      "0\n",
      "[[1. 0.]]\n",
      "0\n"
     ]
    },
    {
     "name": "stderr",
     "output_type": "stream",
     "text": [
      " 67%|██████████████████████████████████████████████████████▋                           | 62/93 [00:02<00:01, 25.67it/s]"
     ]
    },
    {
     "name": "stdout",
     "output_type": "stream",
     "text": [
      "[[1. 0.]]\n",
      "0\n",
      "[[1. 0.]]\n",
      "0\n",
      "[[1. 0.]]\n",
      "0\n"
     ]
    },
    {
     "name": "stderr",
     "output_type": "stream",
     "text": [
      " 70%|█████████████████████████████████████████████████████████▎                        | 65/93 [00:02<00:01, 25.04it/s]"
     ]
    },
    {
     "name": "stdout",
     "output_type": "stream",
     "text": [
      "[[1. 0.]]\n",
      "0\n",
      "[[1. 0.]]\n",
      "0\n",
      "[[1. 0.]]\n",
      "0\n"
     ]
    },
    {
     "name": "stderr",
     "output_type": "stream",
     "text": [
      " 73%|███████████████████████████████████████████████████████████▉                      | 68/93 [00:02<00:00, 25.18it/s]"
     ]
    },
    {
     "name": "stdout",
     "output_type": "stream",
     "text": [
      "[[1. 0.]]\n",
      "0\n",
      "[[1. 0.]]\n",
      "0\n",
      "[[1. 0.]]\n",
      "0\n"
     ]
    },
    {
     "name": "stderr",
     "output_type": "stream",
     "text": [
      " 76%|██████████████████████████████████████████████████████████████▌                   | 71/93 [00:02<00:00, 25.37it/s]"
     ]
    },
    {
     "name": "stdout",
     "output_type": "stream",
     "text": [
      "[[1. 0.]]\n",
      "0\n",
      "[[1. 0.]]\n",
      "0\n",
      "[[1. 0.]]\n",
      "0\n"
     ]
    },
    {
     "name": "stderr",
     "output_type": "stream",
     "text": [
      " 80%|█████████████████████████████████████████████████████████████████▏                | 74/93 [00:02<00:00, 25.35it/s]"
     ]
    },
    {
     "name": "stdout",
     "output_type": "stream",
     "text": [
      "[[1. 0.]]\n",
      "0\n",
      "[[1. 0.]]\n",
      "0\n",
      "[[1. 0.]]\n",
      "0\n"
     ]
    },
    {
     "name": "stderr",
     "output_type": "stream",
     "text": [
      " 83%|███████████████████████████████████████████████████████████████████▉              | 77/93 [00:02<00:00, 25.06it/s]"
     ]
    },
    {
     "name": "stdout",
     "output_type": "stream",
     "text": [
      "[[1. 0.]]\n",
      "0\n",
      "[[1. 0.]]\n",
      "0\n",
      "[[1. 0.]]\n",
      "0\n"
     ]
    },
    {
     "name": "stderr",
     "output_type": "stream",
     "text": [
      " 86%|██████████████████████████████████████████████████████████████████████▌           | 80/93 [00:02<00:00, 23.51it/s]"
     ]
    },
    {
     "name": "stdout",
     "output_type": "stream",
     "text": [
      "[[1. 0.]]\n",
      "0\n",
      "[[1. 0.]]\n",
      "0\n",
      "[[1. 0.]]\n",
      "0\n"
     ]
    },
    {
     "name": "stderr",
     "output_type": "stream",
     "text": [
      " 89%|█████████████████████████████████████████████████████████████████████████▏        | 83/93 [00:03<00:00, 25.07it/s]"
     ]
    },
    {
     "name": "stdout",
     "output_type": "stream",
     "text": [
      "[[1. 0.]]\n",
      "0\n",
      "[[1. 0.]]\n",
      "0\n",
      "[[1. 0.]]\n",
      "0\n",
      "[[1. 0.]]\n",
      "0\n"
     ]
    },
    {
     "name": "stderr",
     "output_type": "stream",
     "text": [
      " 94%|████████████████████████████████████████████████████████████████████████████▋     | 87/93 [00:03<00:00, 26.29it/s]"
     ]
    },
    {
     "name": "stdout",
     "output_type": "stream",
     "text": [
      "[[1. 0.]]\n",
      "0\n",
      "[[1. 0.]]\n",
      "0\n",
      "[[1. 0.]]\n",
      "0\n"
     ]
    },
    {
     "name": "stderr",
     "output_type": "stream",
     "text": [
      " 97%|███████████████████████████████████████████████████████████████████████████████▎  | 90/93 [00:03<00:00, 26.02it/s]"
     ]
    },
    {
     "name": "stdout",
     "output_type": "stream",
     "text": [
      "[[1. 0.]]\n",
      "0\n",
      "[[1. 0.]]\n",
      "0\n",
      "[[1. 0.]]\n",
      "0\n"
     ]
    },
    {
     "name": "stderr",
     "output_type": "stream",
     "text": [
      "100%|██████████████████████████████████████████████████████████████████████████████████| 93/93 [00:03<00:00, 25.53it/s]\n"
     ]
    },
    {
     "name": "stdout",
     "output_type": "stream",
     "text": [
      "93\n",
      "0\n"
     ]
    }
   ],
   "source": [
    "correct=[]\n",
    "wrong=[]\n",
    "for img in tqdm(os.listdir(PAR_DIR)):\n",
    "    path = os.path.join(PAR_DIR,img)\n",
    "    img = cv2.imread(path,cv2.IMREAD_COLOR)\n",
    "    img = cv2.resize(img, (IMG_SIZE,IMG_SIZE))\n",
    "    imgarr= np.array(img)\n",
    "    imgB = color.rgb2gray(imgarr)\n",
    "    thresh = threshold_otsu(imgB)\n",
    "    binary1 = imgB < thresh\n",
    "    canny_edges = canny(imgB, sigma=0)\n",
    "    X = np.expand_dims(canny_edges, axis=3)\n",
    "    X.resize(1,150,150,1)\n",
    "    pred1=model.predict(X)\n",
    "    print(pred1)\n",
    "    print(np.argmax(pred1))\n",
    "    if(np.argmax(pred1)==0):\n",
    "        correct.append(np.argmax(pred1))\n",
    "    if(not np.argmax(pred1)==0):\n",
    "        wrong.append(np.argmax(pred1))\n",
    "print(len(correct))\n",
    "print(len(wrong))"
   ]
  },
  {
   "cell_type": "code",
   "execution_count": 41,
   "metadata": {},
   "outputs": [
    {
     "name": "stderr",
     "output_type": "stream",
     "text": [
      "  0%|                                                                                           | 0/67 [00:00<?, ?it/s]c:\\users\\lakshay singhal\\appdata\\local\\programs\\python\\python35\\lib\\site-packages\\ipykernel_launcher.py:12: DeprecationWarning: Both axis > a.ndim and axis < -a.ndim - 1 are deprecated and will raise an AxisError in the future.\n",
      "  if sys.path[0] == '':\n"
     ]
    },
    {
     "name": "stdout",
     "output_type": "stream",
     "text": [
      "[[0. 1.]]\n",
      "1\n",
      "[[0. 1.]]\n",
      "1\n",
      "[[0. 1.]]\n",
      "1\n"
     ]
    },
    {
     "name": "stderr",
     "output_type": "stream",
     "text": [
      "  4%|███▋                                                                               | 3/67 [00:00<00:02, 28.17it/s]"
     ]
    },
    {
     "name": "stdout",
     "output_type": "stream",
     "text": [
      "[[0. 1.]]\n",
      "1\n",
      "[[0. 1.]]\n",
      "1\n",
      "[[1.0000000e+00 2.9960527e-34]]\n",
      "0\n"
     ]
    },
    {
     "name": "stderr",
     "output_type": "stream",
     "text": [
      "  9%|███████▍                                                                           | 6/67 [00:00<00:02, 26.83it/s]"
     ]
    },
    {
     "name": "stdout",
     "output_type": "stream",
     "text": [
      "[[0. 1.]]\n",
      "1\n",
      "[[1. 0.]]\n",
      "0\n",
      "[[0. 1.]]\n",
      "1\n"
     ]
    },
    {
     "name": "stderr",
     "output_type": "stream",
     "text": [
      " 13%|███████████▏                                                                       | 9/67 [00:00<00:02, 25.74it/s]"
     ]
    },
    {
     "name": "stdout",
     "output_type": "stream",
     "text": [
      "[[0. 1.]]\n",
      "1\n",
      "[[0. 1.]]\n",
      "1\n",
      "[[1. 0.]]\n",
      "0\n"
     ]
    },
    {
     "name": "stderr",
     "output_type": "stream",
     "text": [
      " 18%|██████████████▋                                                                   | 12/67 [00:00<00:02, 24.44it/s]"
     ]
    },
    {
     "name": "stdout",
     "output_type": "stream",
     "text": [
      "[[0. 1.]]\n",
      "1\n",
      "[[0. 1.]]\n",
      "1\n",
      "[[0. 1.]]\n",
      "1\n"
     ]
    },
    {
     "name": "stderr",
     "output_type": "stream",
     "text": [
      " 22%|██████████████████▎                                                               | 15/67 [00:00<00:02, 23.90it/s]"
     ]
    },
    {
     "name": "stdout",
     "output_type": "stream",
     "text": [
      "[[1. 0.]]\n",
      "0\n",
      "[[0. 1.]]\n",
      "1\n",
      "[[0. 1.]]\n",
      "1\n"
     ]
    },
    {
     "name": "stderr",
     "output_type": "stream",
     "text": [
      " 27%|██████████████████████                                                            | 18/67 [00:00<00:01, 24.53it/s]"
     ]
    },
    {
     "name": "stdout",
     "output_type": "stream",
     "text": [
      "[[0. 1.]]\n",
      "1\n",
      "[[0. 1.]]\n",
      "1\n",
      "[[0. 1.]]\n",
      "1\n"
     ]
    },
    {
     "name": "stderr",
     "output_type": "stream",
     "text": [
      " 31%|█████████████████████████▋                                                        | 21/67 [00:00<00:01, 24.39it/s]"
     ]
    },
    {
     "name": "stdout",
     "output_type": "stream",
     "text": [
      "[[0. 1.]]\n",
      "1\n",
      "[[1. 0.]]\n",
      "0\n",
      "[[0. 1.]]\n",
      "1\n"
     ]
    },
    {
     "name": "stderr",
     "output_type": "stream",
     "text": [
      " 36%|█████████████████████████████▎                                                    | 24/67 [00:00<00:01, 24.11it/s]"
     ]
    },
    {
     "name": "stdout",
     "output_type": "stream",
     "text": [
      "[[0. 1.]]\n",
      "1\n",
      "[[0. 1.]]\n",
      "1\n",
      "[[0. 1.]]\n",
      "1\n"
     ]
    },
    {
     "name": "stderr",
     "output_type": "stream",
     "text": [
      " 40%|█████████████████████████████████                                                 | 27/67 [00:01<00:01, 24.63it/s]"
     ]
    },
    {
     "name": "stdout",
     "output_type": "stream",
     "text": [
      "[[0. 1.]]\n",
      "1\n",
      "[[0. 1.]]\n",
      "1\n",
      "[[0. 1.]]\n",
      "1\n"
     ]
    },
    {
     "name": "stderr",
     "output_type": "stream",
     "text": [
      " 45%|████████████████████████████████████▋                                             | 30/67 [00:01<00:01, 24.93it/s]"
     ]
    },
    {
     "name": "stdout",
     "output_type": "stream",
     "text": [
      "[[0. 1.]]\n",
      "1\n",
      "[[0. 1.]]\n",
      "1\n",
      "[[0. 1.]]\n",
      "1\n"
     ]
    },
    {
     "name": "stderr",
     "output_type": "stream",
     "text": [
      " 49%|████████████████████████████████████████▍                                         | 33/67 [00:01<00:01, 26.17it/s]"
     ]
    },
    {
     "name": "stdout",
     "output_type": "stream",
     "text": [
      "[[0. 1.]]\n",
      "1\n",
      "[[0. 1.]]\n",
      "1\n",
      "[[1. 0.]]\n",
      "0\n"
     ]
    },
    {
     "name": "stderr",
     "output_type": "stream",
     "text": [
      " 54%|████████████████████████████████████████████                                      | 36/67 [00:01<00:01, 24.59it/s]"
     ]
    },
    {
     "name": "stdout",
     "output_type": "stream",
     "text": [
      "[[0. 1.]]\n",
      "1\n",
      "[[0. 1.]]\n",
      "1\n",
      "[[0. 1.]]\n",
      "1\n"
     ]
    },
    {
     "name": "stderr",
     "output_type": "stream",
     "text": [
      " 58%|███████████████████████████████████████████████▋                                  | 39/67 [00:01<00:01, 24.62it/s]"
     ]
    },
    {
     "name": "stdout",
     "output_type": "stream",
     "text": [
      "[[0. 1.]]\n",
      "1\n",
      "[[0. 1.]]\n",
      "1\n",
      "[[0. 1.]]\n",
      "1\n"
     ]
    },
    {
     "name": "stderr",
     "output_type": "stream",
     "text": [
      " 63%|███████████████████████████████████████████████████▍                              | 42/67 [00:01<00:01, 24.38it/s]"
     ]
    },
    {
     "name": "stdout",
     "output_type": "stream",
     "text": [
      "[[0. 1.]]\n",
      "1\n",
      "[[0. 1.]]\n",
      "1\n",
      "[[0. 1.]]\n",
      "1\n"
     ]
    },
    {
     "name": "stderr",
     "output_type": "stream",
     "text": [
      " 67%|███████████████████████████████████████████████████████                           | 45/67 [00:01<00:00, 23.91it/s]"
     ]
    },
    {
     "name": "stdout",
     "output_type": "stream",
     "text": [
      "[[0. 1.]]\n",
      "1\n",
      "[[0. 1.]]\n",
      "1\n",
      "[[0. 1.]]\n",
      "1\n"
     ]
    },
    {
     "name": "stderr",
     "output_type": "stream",
     "text": [
      " 72%|██████████████████████████████████████████████████████████▋                       | 48/67 [00:01<00:00, 23.83it/s]"
     ]
    },
    {
     "name": "stdout",
     "output_type": "stream",
     "text": [
      "[[0.8551736  0.14482646]]\n",
      "0\n",
      "[[1. 0.]]\n",
      "0\n",
      "[[0. 1.]]\n",
      "1\n"
     ]
    },
    {
     "name": "stderr",
     "output_type": "stream",
     "text": [
      " 76%|██████████████████████████████████████████████████████████████▍                   | 51/67 [00:02<00:00, 24.31it/s]"
     ]
    },
    {
     "name": "stdout",
     "output_type": "stream",
     "text": [
      "[[0. 1.]]\n",
      "1\n",
      "[[0. 1.]]\n",
      "1\n",
      "[[0. 1.]]\n",
      "1\n"
     ]
    },
    {
     "name": "stderr",
     "output_type": "stream",
     "text": [
      " 81%|██████████████████████████████████████████████████████████████████                | 54/67 [00:02<00:00, 21.78it/s]"
     ]
    },
    {
     "name": "stdout",
     "output_type": "stream",
     "text": [
      "[[1. 0.]]\n",
      "0\n",
      "[[0. 1.]]\n",
      "1\n",
      "[[0. 1.]]\n",
      "1\n"
     ]
    },
    {
     "name": "stderr",
     "output_type": "stream",
     "text": [
      " 85%|█████████████████████████████████████████████████████████████████████▊            | 57/67 [00:02<00:00, 21.05it/s]"
     ]
    },
    {
     "name": "stdout",
     "output_type": "stream",
     "text": [
      "[[0. 1.]]\n",
      "1\n",
      "[[1.713521e-32 1.000000e+00]]\n",
      "1\n",
      "[[0. 1.]]\n",
      "1\n"
     ]
    },
    {
     "name": "stderr",
     "output_type": "stream",
     "text": [
      " 90%|█████████████████████████████████████████████████████████████████████████▍        | 60/67 [00:02<00:00, 21.07it/s]"
     ]
    },
    {
     "name": "stdout",
     "output_type": "stream",
     "text": [
      "[[0. 1.]]\n",
      "1\n",
      "[[0. 1.]]\n",
      "1\n",
      "[[0. 1.]]\n",
      "1\n",
      "[[0. 1.]]\n",
      "1\n"
     ]
    },
    {
     "name": "stderr",
     "output_type": "stream",
     "text": [
      " 96%|██████████████████████████████████████████████████████████████████████████████▎   | 64/67 [00:02<00:00, 23.82it/s]"
     ]
    },
    {
     "name": "stdout",
     "output_type": "stream",
     "text": [
      "[[0. 1.]]\n",
      "1\n",
      "[[0. 1.]]\n",
      "1\n",
      "[[0. 1.]]\n",
      "1\n"
     ]
    },
    {
     "name": "stderr",
     "output_type": "stream",
     "text": [
      "100%|██████████████████████████████████████████████████████████████████████████████████| 67/67 [00:02<00:00, 24.24it/s]\n"
     ]
    },
    {
     "name": "stdout",
     "output_type": "stream",
     "text": [
      "58\n",
      "9\n"
     ]
    }
   ],
   "source": [
    "correct=[]\n",
    "wrong=[]\n",
    "for img in tqdm(os.listdir(NOPAR_DIR)):\n",
    "    path = os.path.join(NOPAR_DIR,img)\n",
    "    img = cv2.imread(path,cv2.IMREAD_COLOR)\n",
    "    img = cv2.resize(img, (IMG_SIZE,IMG_SIZE))\n",
    "    imgarr= np.array(img)\n",
    "    imgB = color.rgb2gray(imgarr)\n",
    "    thresh = threshold_otsu(imgB)\n",
    "    binary1 = imgB < thresh\n",
    "    canny_edges = canny(imgB, sigma=0)\n",
    "    X = np.expand_dims(canny_edges, axis=3)\n",
    "    X.resize(1,150,150,1)\n",
    "    pred1=model.predict(X)\n",
    "    print(pred1)\n",
    "    print(np.argmax(pred1))\n",
    "    if(np.argmax(pred1)==1):\n",
    "        correct.append(np.argmax(pred1))\n",
    "    if(not np.argmax(pred1)==1):\n",
    "        wrong.append(np.argmax(pred1))\n",
    "print(len(correct))\n",
    "print(len(wrong))"
   ]
  },
  {
   "cell_type": "raw",
   "metadata": {},
   "source": [
    "import numpy as np\n",
    "from PIL import Image\n",
    "img = Image.open(\"C:\\\\Users\\\\LAKSHAY SINGHAL\\\\Desktop\\\\withoutParkinsonDraw\\\\7_4.jpg\")\n",
    "imgarr= np.array(img)\n",
    "imgB = color.rgb2gray(imgarr)\n",
    "thresh = threshold_otsu(imgB)\n",
    "binary1 = imgB < thresh\n",
    "canny_edges = canny(imgB, sigma=0)\n",
    "canny_edges.resize(1,150,150,1)\n",
    "#X = np.expand_dims(canny_edges, axis=3)\n",
    "pred1=model.predict(canny_edges)\n",
    "print(pred1)\n",
    "print(np.argmax(pred1))"
   ]
  },
  {
   "cell_type": "code",
   "execution_count": null,
   "metadata": {},
   "outputs": [],
   "source": []
  }
 ],
 "metadata": {
  "kernelspec": {
   "display_name": "Python 3",
   "language": "python",
   "name": "python3"
  },
  "language_info": {
   "codemirror_mode": {
    "name": "ipython",
    "version": 3
   },
   "file_extension": ".py",
   "mimetype": "text/x-python",
   "name": "python",
   "nbconvert_exporter": "python",
   "pygments_lexer": "ipython3",
   "version": "3.5.4"
  }
 },
 "nbformat": 4,
 "nbformat_minor": 2
}
