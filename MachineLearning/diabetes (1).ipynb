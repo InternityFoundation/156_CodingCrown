{
 "cells": [
  {
   "cell_type": "code",
   "execution_count": 1,
   "metadata": {},
   "outputs": [],
   "source": [
    "import pandas as pd\n",
    "import numpy as np"
   ]
  },
  {
   "cell_type": "code",
   "execution_count": 2,
   "metadata": {},
   "outputs": [],
   "source": [
    "df = pd.read_csv('diabetes.csv', header=None)\n",
    "df.columns = [\"pregnancies\", \"glucose\", \"diastolic\", \"triceps\",\"insulin\",\"bmi\",\"dpf\",\"age\",\"diabetes\"]"
   ]
  },
  {
   "cell_type": "code",
   "execution_count": 3,
   "metadata": {},
   "outputs": [],
   "source": [
    "df = df.drop([\"diastolic\",\"triceps\",\"dpf\"], axis=1)"
   ]
  },
  {
   "cell_type": "code",
   "execution_count": 6,
   "metadata": {},
   "outputs": [
    {
     "data": {
      "text/html": [
       "<div>\n",
       "<style scoped>\n",
       "    .dataframe tbody tr th:only-of-type {\n",
       "        vertical-align: middle;\n",
       "    }\n",
       "\n",
       "    .dataframe tbody tr th {\n",
       "        vertical-align: top;\n",
       "    }\n",
       "\n",
       "    .dataframe thead th {\n",
       "        text-align: right;\n",
       "    }\n",
       "</style>\n",
       "<table border=\"1\" class=\"dataframe\">\n",
       "  <thead>\n",
       "    <tr style=\"text-align: right;\">\n",
       "      <th></th>\n",
       "      <th>pregnancies</th>\n",
       "      <th>glucose</th>\n",
       "      <th>insulin</th>\n",
       "      <th>bmi</th>\n",
       "      <th>age</th>\n",
       "      <th>diabetes</th>\n",
       "    </tr>\n",
       "  </thead>\n",
       "  <tbody>\n",
       "    <tr>\n",
       "      <th>758</th>\n",
       "      <td>1</td>\n",
       "      <td>106.0</td>\n",
       "      <td>79.799479</td>\n",
       "      <td>37.5</td>\n",
       "      <td>26</td>\n",
       "      <td>0</td>\n",
       "    </tr>\n",
       "    <tr>\n",
       "      <th>759</th>\n",
       "      <td>6</td>\n",
       "      <td>190.0</td>\n",
       "      <td>79.799479</td>\n",
       "      <td>35.5</td>\n",
       "      <td>66</td>\n",
       "      <td>1</td>\n",
       "    </tr>\n",
       "    <tr>\n",
       "      <th>760</th>\n",
       "      <td>2</td>\n",
       "      <td>88.0</td>\n",
       "      <td>16.000000</td>\n",
       "      <td>28.4</td>\n",
       "      <td>22</td>\n",
       "      <td>0</td>\n",
       "    </tr>\n",
       "    <tr>\n",
       "      <th>761</th>\n",
       "      <td>9</td>\n",
       "      <td>170.0</td>\n",
       "      <td>79.799479</td>\n",
       "      <td>44.0</td>\n",
       "      <td>43</td>\n",
       "      <td>1</td>\n",
       "    </tr>\n",
       "    <tr>\n",
       "      <th>762</th>\n",
       "      <td>9</td>\n",
       "      <td>89.0</td>\n",
       "      <td>79.799479</td>\n",
       "      <td>22.5</td>\n",
       "      <td>33</td>\n",
       "      <td>0</td>\n",
       "    </tr>\n",
       "    <tr>\n",
       "      <th>763</th>\n",
       "      <td>10</td>\n",
       "      <td>101.0</td>\n",
       "      <td>180.000000</td>\n",
       "      <td>32.9</td>\n",
       "      <td>63</td>\n",
       "      <td>0</td>\n",
       "    </tr>\n",
       "    <tr>\n",
       "      <th>764</th>\n",
       "      <td>2</td>\n",
       "      <td>122.0</td>\n",
       "      <td>79.799479</td>\n",
       "      <td>36.8</td>\n",
       "      <td>27</td>\n",
       "      <td>0</td>\n",
       "    </tr>\n",
       "    <tr>\n",
       "      <th>765</th>\n",
       "      <td>5</td>\n",
       "      <td>121.0</td>\n",
       "      <td>112.000000</td>\n",
       "      <td>26.2</td>\n",
       "      <td>30</td>\n",
       "      <td>0</td>\n",
       "    </tr>\n",
       "    <tr>\n",
       "      <th>766</th>\n",
       "      <td>1</td>\n",
       "      <td>126.0</td>\n",
       "      <td>79.799479</td>\n",
       "      <td>30.1</td>\n",
       "      <td>47</td>\n",
       "      <td>1</td>\n",
       "    </tr>\n",
       "    <tr>\n",
       "      <th>767</th>\n",
       "      <td>1</td>\n",
       "      <td>93.0</td>\n",
       "      <td>79.799479</td>\n",
       "      <td>30.4</td>\n",
       "      <td>23</td>\n",
       "      <td>0</td>\n",
       "    </tr>\n",
       "  </tbody>\n",
       "</table>\n",
       "</div>"
      ],
      "text/plain": [
       "     pregnancies  glucose     insulin   bmi  age  diabetes\n",
       "758            1    106.0   79.799479  37.5   26         0\n",
       "759            6    190.0   79.799479  35.5   66         1\n",
       "760            2     88.0   16.000000  28.4   22         0\n",
       "761            9    170.0   79.799479  44.0   43         1\n",
       "762            9     89.0   79.799479  22.5   33         0\n",
       "763           10    101.0  180.000000  32.9   63         0\n",
       "764            2    122.0   79.799479  36.8   27         0\n",
       "765            5    121.0  112.000000  26.2   30         0\n",
       "766            1    126.0   79.799479  30.1   47         1\n",
       "767            1     93.0   79.799479  30.4   23         0"
      ]
     },
     "execution_count": 6,
     "metadata": {},
     "output_type": "execute_result"
    }
   ],
   "source": [
    "df.glucose.replace(0, np.nan, inplace=True)\n",
    "df.bmi.replace(0, np.nan, inplace=True)\n",
    "df.age.replace(0, np.nan, inplace=True)\n",
    "df.insulin.replace(0, np.mean(df.insulin), inplace=True)\n",
    "df = df.dropna()\n",
    "df.tail(10)"
   ]
  },
  {
   "cell_type": "code",
   "execution_count": 5,
   "metadata": {},
   "outputs": [
    {
     "name": "stderr",
     "output_type": "stream",
     "text": [
      "Using TensorFlow backend.\n"
     ]
    }
   ],
   "source": [
    "import keras\n",
    "from keras.layers import Dense\n",
    "from keras.models import Sequential\n",
    "from keras.utils import to_categorical"
   ]
  },
  {
   "cell_type": "code",
   "execution_count": 6,
   "metadata": {},
   "outputs": [
    {
     "name": "stderr",
     "output_type": "stream",
     "text": [
      "c:\\users\\lakshay singhal\\appdata\\local\\programs\\python\\python35\\lib\\site-packages\\ipykernel_launcher.py:1: FutureWarning: Method .as_matrix will be removed in a future version. Use .values instead.\n",
      "  \"\"\"Entry point for launching an IPython kernel.\n"
     ]
    }
   ],
   "source": [
    "predictors = df.drop('diabetes', axis=1).as_matrix()\n",
    "target = to_categorical(df.diabetes)\n",
    "model = Sequential()\n",
    "n_cols = predictors.shape[1]"
   ]
  },
  {
   "cell_type": "code",
   "execution_count": 7,
   "metadata": {},
   "outputs": [],
   "source": [
    "model.add(Dense(100, activation='relu', input_shape=(n_cols,)))\n",
    "model.add(Dense(100, activation='relu'))\n",
    "model.add(Dense(2, activation='softmax'))"
   ]
  },
  {
   "cell_type": "code",
   "execution_count": 8,
   "metadata": {},
   "outputs": [
    {
     "name": "stderr",
     "output_type": "stream",
     "text": [
      "WARNING: Logging before flag parsing goes to stderr.\n",
      "W1016 03:27:24.922412  8136 deprecation_wrapper.py:119] From c:\\users\\lakshay singhal\\appdata\\local\\programs\\python\\python35\\lib\\site-packages\\keras\\backend\\tensorflow_backend.py:422: The name tf.global_variables is deprecated. Please use tf.compat.v1.global_variables instead.\n",
      "\n"
     ]
    },
    {
     "name": "stdout",
     "output_type": "stream",
     "text": [
      "Train on 526 samples, validate on 226 samples\n",
      "Epoch 1/20\n",
      "526/526 [==============================] - 0s 192us/step - loss: 11.3797 - accuracy: 0.5760 - val_loss: 1.8103 - val_accuracy: 0.3496\n",
      "Epoch 2/20\n",
      "526/526 [==============================] - 0s 40us/step - loss: 0.8448 - accuracy: 0.6331 - val_loss: 0.9613 - val_accuracy: 0.5575\n",
      "Epoch 3/20\n",
      "526/526 [==============================] - 0s 47us/step - loss: 0.7279 - accuracy: 0.6293 - val_loss: 0.6825 - val_accuracy: 0.6416\n",
      "Epoch 4/20\n",
      "526/526 [==============================] - 0s 44us/step - loss: 0.6436 - accuracy: 0.6521 - val_loss: 0.6655 - val_accuracy: 0.6637\n",
      "Epoch 5/20\n",
      "526/526 [==============================] - 0s 46us/step - loss: 0.6294 - accuracy: 0.6673 - val_loss: 0.7517 - val_accuracy: 0.5265\n",
      "Epoch 6/20\n",
      "526/526 [==============================] - 0s 44us/step - loss: 0.6389 - accuracy: 0.6521 - val_loss: 0.6802 - val_accuracy: 0.5619\n",
      "Epoch 7/20\n",
      "526/526 [==============================] - 0s 46us/step - loss: 0.6417 - accuracy: 0.6654 - val_loss: 0.6823 - val_accuracy: 0.5531\n",
      "Epoch 8/20\n",
      "526/526 [==============================] - 0s 43us/step - loss: 0.6407 - accuracy: 0.6464 - val_loss: 0.6864 - val_accuracy: 0.6593\n",
      "Epoch 9/20\n",
      "526/526 [==============================] - 0s 42us/step - loss: 0.6340 - accuracy: 0.6692 - val_loss: 0.6710 - val_accuracy: 0.6372\n",
      "Epoch 10/20\n",
      "526/526 [==============================] - 0s 46us/step - loss: 0.6217 - accuracy: 0.6673 - val_loss: 0.6626 - val_accuracy: 0.5973\n",
      "Epoch 11/20\n",
      "526/526 [==============================] - 0s 43us/step - loss: 0.6158 - accuracy: 0.6711 - val_loss: 0.6773 - val_accuracy: 0.5796\n",
      "Epoch 12/20\n",
      "526/526 [==============================] - 0s 47us/step - loss: 0.6218 - accuracy: 0.6844 - val_loss: 0.6688 - val_accuracy: 0.6460\n",
      "Epoch 13/20\n",
      "526/526 [==============================] - 0s 53us/step - loss: 0.6108 - accuracy: 0.6749 - val_loss: 0.6579 - val_accuracy: 0.6460\n",
      "Epoch 14/20\n",
      "526/526 [==============================] - 0s 46us/step - loss: 0.6141 - accuracy: 0.6654 - val_loss: 0.6702 - val_accuracy: 0.6327\n",
      "Epoch 15/20\n",
      "526/526 [==============================] - 0s 46us/step - loss: 0.6099 - accuracy: 0.6806 - val_loss: 0.6758 - val_accuracy: 0.5973\n",
      "Epoch 16/20\n",
      "526/526 [==============================] - 0s 49us/step - loss: 0.6112 - accuracy: 0.6578 - val_loss: 0.6518 - val_accuracy: 0.6106\n",
      "Epoch 17/20\n",
      "526/526 [==============================] - 0s 44us/step - loss: 0.6184 - accuracy: 0.6939 - val_loss: 0.6554 - val_accuracy: 0.6460\n",
      "Epoch 18/20\n",
      "526/526 [==============================] - 0s 45us/step - loss: 0.6060 - accuracy: 0.6635 - val_loss: 0.7135 - val_accuracy: 0.6593\n",
      "Epoch 19/20\n",
      "526/526 [==============================] - 0s 44us/step - loss: 0.6107 - accuracy: 0.6730 - val_loss: 0.6716 - val_accuracy: 0.6460\n",
      "Epoch 20/20\n",
      "526/526 [==============================] - 0s 46us/step - loss: 0.6034 - accuracy: 0.6825 - val_loss: 0.6945 - val_accuracy: 0.5442\n"
     ]
    },
    {
     "data": {
      "text/plain": [
       "<keras.callbacks.callbacks.History at 0x2538a2cfd68>"
      ]
     },
     "execution_count": 8,
     "metadata": {},
     "output_type": "execute_result"
    }
   ],
   "source": [
    "model.compile(optimizer='sgd', loss='categorical_crossentropy', metrics=['accuracy'])\n",
    "model.fit(predictors, target, validation_split=0.3, epochs=20)"
   ]
  },
  {
   "cell_type": "code",
   "execution_count": 9,
   "metadata": {},
   "outputs": [],
   "source": [
    "pred = model.predict([[[8,170.0,79.799479,33.6,60]]])"
   ]
  },
  {
   "cell_type": "code",
   "execution_count": 10,
   "metadata": {},
   "outputs": [
    {
     "name": "stdout",
     "output_type": "stream",
     "text": [
      "[[0.7583409  0.24165908]]\n"
     ]
    }
   ],
   "source": [
    "print(pred)"
   ]
  },
  {
   "cell_type": "code",
   "execution_count": 11,
   "metadata": {},
   "outputs": [
    {
     "name": "stderr",
     "output_type": "stream",
     "text": [
      "W1016 03:27:40.741940  8136 deprecation.py:323] From <ipython-input-11-4a3a4d2af309>:6: TocoConverter.from_keras_model_file (from tensorflow.lite.python.lite) is deprecated and will be removed in a future version.\n",
      "Instructions for updating:\n",
      "Use `lite.TFLiteConverter.from_keras_model_file` instead.\n",
      "W1016 03:27:41.049619  8136 hdf5_format.py:258] Error in loading the saved optimizer state. As a result, your model is starting with a freshly initialized optimizer.\n",
      "W1016 03:27:41.243656  8136 deprecation.py:323] From c:\\users\\lakshay singhal\\appdata\\local\\programs\\python\\python35\\lib\\site-packages\\tensorflow\\lite\\python\\util.py:238: convert_variables_to_constants (from tensorflow.python.framework.graph_util_impl) is deprecated and will be removed in a future version.\n",
      "Instructions for updating:\n",
      "Use `tf.compat.v1.graph_util.convert_variables_to_constants`\n",
      "W1016 03:27:41.244653  8136 deprecation.py:323] From c:\\users\\lakshay singhal\\appdata\\local\\programs\\python\\python35\\lib\\site-packages\\tensorflow\\python\\framework\\graph_util_impl.py:270: extract_sub_graph (from tensorflow.python.framework.graph_util_impl) is deprecated and will be removed in a future version.\n",
      "Instructions for updating:\n",
      "Use `tf.compat.v1.graph_util.extract_sub_graph`\n"
     ]
    },
    {
     "data": {
      "text/plain": [
       "44988"
      ]
     },
     "execution_count": 11,
     "metadata": {},
     "output_type": "execute_result"
    }
   ],
   "source": [
    "import tensorflow as tf\n",
    "from tensorflow import keras\n",
    "from tensorflow import lite\n",
    "keras_file = \"diet.h5\"\n",
    "keras.models.save_model(model, keras_file)\n",
    "converter = lite.TocoConverter.from_keras_model_file(keras_file)\n",
    "tflite_model = converter.convert()\n",
    "open(\"diet.tflite\", \"wb\").write(tflite_model)"
   ]
  },
  {
   "cell_type": "code",
   "execution_count": null,
   "metadata": {},
   "outputs": [],
   "source": []
  }
 ],
 "metadata": {
  "kernelspec": {
   "display_name": "Python 3",
   "language": "python",
   "name": "python3"
  },
  "language_info": {
   "codemirror_mode": {
    "name": "ipython",
    "version": 3
   },
   "file_extension": ".py",
   "mimetype": "text/x-python",
   "name": "python",
   "nbconvert_exporter": "python",
   "pygments_lexer": "ipython3",
   "version": "3.7.2"
  }
 },
 "nbformat": 4,
 "nbformat_minor": 2
}
